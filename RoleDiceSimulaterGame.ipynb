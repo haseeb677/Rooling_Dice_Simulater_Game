{
 "cells": [
  {
   "cell_type": "code",
   "execution_count": null,
   "id": "1a7a0c0e-2346-472a-87e0-c5ca1ed0982d",
   "metadata": {},
   "outputs": [
    {
     "name": "stdout",
     "output_type": "stream",
     "text": [
      "Welcome to the Dice Simulator!\n"
     ]
    },
    {
     "name": "stdin",
     "output_type": "stream",
     "text": [
      "Enter the number of dice you want to roll:  1\n",
      "Enter the number of sides on each die:  2\n"
     ]
    },
    {
     "name": "stdout",
     "output_type": "stream",
     "text": [
      "You rolled: [1]\n",
      "Total: 1\n"
     ]
    },
    {
     "name": "stdin",
     "output_type": "stream",
     "text": [
      "Do you want to roll again? (y/n):  y\n",
      "Enter the number of dice you want to roll:  2\n",
      "Enter the number of sides on each die:  45\n"
     ]
    },
    {
     "name": "stdout",
     "output_type": "stream",
     "text": [
      "You rolled: [28, 5]\n",
      "Total: 33\n"
     ]
    },
    {
     "name": "stdin",
     "output_type": "stream",
     "text": [
      "Do you want to roll again? (y/n):  y\n",
      "Enter the number of dice you want to roll:  56\n",
      "Enter the number of sides on each die:  78\n"
     ]
    },
    {
     "name": "stdout",
     "output_type": "stream",
     "text": [
      "You rolled: [11, 1, 38, 28, 10, 16, 15, 57, 43, 48, 62, 61, 69, 74, 36, 61, 27, 35, 14, 4, 48, 20, 48, 40, 64, 20, 59, 11, 51, 74, 36, 45, 72, 35, 36, 72, 51, 54, 4, 64, 28, 52, 9, 2, 73, 67, 13, 1, 19, 66, 68, 44, 63, 7, 71, 68]\n",
      "Total: 2265\n"
     ]
    }
   ],
   "source": [
    "import random\n",
    "\n",
    "class Dice:\n",
    "    def __init__(self, sides=6):\n",
    "        self.sides = sides\n",
    "\n",
    "    def roll(self):\n",
    "        return random.randint(1, self.sides)\n",
    "\n",
    "def roll_multiple_dice(num_dice, sides):\n",
    "    dice = Dice(sides)\n",
    "    rolls = [dice.roll() for _ in range(num_dice)]\n",
    "    return rolls\n",
    "\n",
    "def main():\n",
    "    print(\"Welcome to the Dice Simulator!\")\n",
    "    \n",
    "    while True:\n",
    "        try:\n",
    "            num_dice = int(input(\"Enter the number of dice you want to roll: \"))\n",
    "            if num_dice < 1:\n",
    "                print(\"Please enter a positive number.\")\n",
    "                continue\n",
    "\n",
    "            sides = int(input(\"Enter the number of sides on each die: \"))\n",
    "            if sides < 2:\n",
    "                print(\"A die must have at least 2 sides.\")\n",
    "                continue\n",
    "        except ValueError:\n",
    "            print(\"Invalid input. Please enter a valid number.\")\n",
    "            continue\n",
    "\n",
    "        rolls = roll_multiple_dice(num_dice, sides)\n",
    "        print(f\"You rolled: {rolls}\")\n",
    "        print(f\"Total: {sum(rolls)}\")\n",
    "\n",
    "        play_again = input(\"Do you want to roll again? (y/n): \")\n",
    "        if play_again.lower() != 'y':\n",
    "            print(\"Thanks for playing!\")\n",
    "            break\n",
    "\n",
    "if __name__ == \"__main__\":\n",
    "    main()\n"
   ]
  }
 ],
 "metadata": {
  "kernelspec": {
   "display_name": "Python 3 (ipykernel)",
   "language": "python",
   "name": "python3"
  },
  "language_info": {
   "codemirror_mode": {
    "name": "ipython",
    "version": 3
   },
   "file_extension": ".py",
   "mimetype": "text/x-python",
   "name": "python",
   "nbconvert_exporter": "python",
   "pygments_lexer": "ipython3",
   "version": "3.12.2"
  }
 },
 "nbformat": 4,
 "nbformat_minor": 5
}
